{
  "cells": [
    {
      "cell_type": "code",
      "source": [],
      "metadata": {
        "id": "4k9WxBo0b3OX"
      },
      "execution_count": null,
      "outputs": []
    },
    {
      "cell_type": "code",
      "source": [
        "num = int(input(\"Introduce un número: \"))\n",
        "\n",
        "if 0 <= num <= 9:\n",
        "    if num % 2 == 0:\n",
        "        print(f\"{num} es par.\")\n",
        "    else:\n",
        "        print(f\"{num} es impar.\")\n",
        "else:\n",
        "    print(\"El número no pertenece al rango de 0 a 9.\")\n"
      ],
      "metadata": {
        "id": "qOBN-OVTb5GI",
        "outputId": "95d57a28-dbd9-4fe2-b784-bdb1dafe4d3d",
        "colab": {
          "base_uri": "https://localhost:8080/"
        }
      },
      "execution_count": 5,
      "outputs": [
        {
          "output_type": "stream",
          "name": "stdout",
          "text": [
            "Introduce un número: 1\n",
            "1 es impar.\n"
          ]
        }
      ]
    },
    {
      "cell_type": "code",
      "source": [
        "#Match\n",
        "numero = int(input(\"Introduce un número del 0 al 9: \"))\n",
        "\n",
        "match numero:\n",
        "    case _ if 0 <= numero <= 9:\n",
        "        match numero % 2:\n",
        "            case 0:\n",
        "                print(f\"El número {numero} es par.\")\n",
        "            case 1:\n",
        "                print(f\"El número {numero} es impar.\")\n",
        "    case _:print(\"El número no pertenece al rango del 0 al 9.\")"
      ],
      "metadata": {
        "id": "GM2Z6K5mfNdl",
        "outputId": "4f3230f5-3452-486c-cabc-9013bdd4cd8e",
        "colab": {
          "base_uri": "https://localhost:8080/"
        }
      },
      "execution_count": 11,
      "outputs": [
        {
          "output_type": "stream",
          "name": "stdout",
          "text": [
            "Introduce un número del 0 al 9: 8\n",
            "El número 8 es par.\n"
          ]
        }
      ]
    },
    {
      "cell_type": "code",
      "source": [
        "#4 elif\n",
        "numero = int(input(\"Introduce un número del 0 al 9: \"))\n",
        "\n",
        "if 0 <= numero <= 9:\n",
        "    if numero % 2 == 0:\n",
        "        print(f\"El número {numero} es par.\")\n",
        "    elif numero % 2 !=0:\n",
        "        print(f\"El número {numero} es impar.\")\n",
        "else:\n",
        "    print(\"El número no pertenece al rango del 0 al 9.\")"
      ],
      "metadata": {
        "id": "T_Oe6vLxfdl9",
        "outputId": "6a188bc1-146b-4623-9503-08eaf5434f5c",
        "colab": {
          "base_uri": "https://localhost:8080/"
        }
      },
      "execution_count": 12,
      "outputs": [
        {
          "output_type": "stream",
          "name": "stdout",
          "text": [
            "Introduce un número del 0 al 9: 2\n",
            "El número 2 es par.\n"
          ]
        }
      ]
    },
    {
      "cell_type": "code",
      "source": [
        "#2 Se presentan 3 personas: Definir cuales el mayor e los 3. Definir de acuerdo a su edad si es un adulto, adolecente o niño\n",
        "# Ingresar las edades de las 3 personas\n",
        "edad1 = int(input(\"Ingresa la edad de la primera persona: \"))\n",
        "edad2 = int(input(\"Ingresa la edad de la segunda persona: \"))\n",
        "edad3 = int(input(\"Ingresa la edad de la tercera persona: \"))\n",
        "\n",
        "# Encontrar la persona de mayor edad\n",
        "mayor_edad = edad1 if (edad1 > edad2 and edad1 > edad3) else (\n",
        "             edad2 if (edad2 > edad3) else edad3)\n",
        "\n",
        "# Clasificar cada persona usando operadores ternarios\n",
        "categoria1 = \"Adulto\" if edad1 >= 18 else \"Adolescente\" if edad1 >= 13 else \"Niño\"\n",
        "categoria2 = \"Adulto\" if edad2 >= 18 else \"Adolescente\" if edad2 >= 13 else \"Niño\"\n",
        "categoria3 = \"Adulto\" if edad3 >= 18 else \"Adolescente\" if edad3 >= 13 else \"Niño\"\n",
        "\n",
        "# Imprimir el resultado del mayor y las categorías\n",
        "print(f\"La persona de mayor edad tiene {mayor_edad} años.\")\n",
        "print(f\"La primera persona es un {categoria1}.\")\n",
        "print(f\"La segunda persona es un {categoria2}.\")\n",
        "print(f\"La tercera persona es un {categoria3}.\")"
      ],
      "metadata": {
        "id": "ex3Ddj5yfvo0",
        "outputId": "83a6cd0d-f196-47a7-e066-1b1dd7c69a70",
        "colab": {
          "base_uri": "https://localhost:8080/"
        }
      },
      "execution_count": 14,
      "outputs": [
        {
          "output_type": "stream",
          "name": "stdout",
          "text": [
            "Ingresa la edad de la primera persona: 14\n",
            "Ingresa la edad de la segunda persona: 15\n",
            "Ingresa la edad de la tercera persona: 16\n",
            "La persona de mayor edad tiene 16 años.\n",
            "La primera persona es un Adolescente.\n",
            "La segunda persona es un Adolescente.\n",
            "La tercera persona es un Adolescente.\n"
          ]
        }
      ]
    }
  ],
  "metadata": {
    "colab": {
      "name": "Te damos la bienvenida a Colaboratory",
      "toc_visible": true,
      "provenance": []
    },
    "kernelspec": {
      "display_name": "Python 3",
      "name": "python3"
    }
  },
  "nbformat": 4,
  "nbformat_minor": 0
}